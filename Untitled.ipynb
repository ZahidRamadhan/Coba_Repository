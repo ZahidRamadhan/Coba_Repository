{
 "cells": [
  {
   "cell_type": "markdown",
   "id": "e1be3b4a-3508-4ae2-8aff-954a9355132a",
   "metadata": {},
   "source": [
    "# Hello\n",
    "- My Name is Zahid\n",
    "- i Live in Indonesia\n",
    "- i'm a student\n",
    "- My Major is Business Statistics\n",
    "- i'm 21 years old\n",
    "- i was born at Jombang, East Java, Indonesia"
   ]
  }
 ],
 "metadata": {
  "kernelspec": {
   "display_name": "Python 3 (ipykernel)",
   "language": "python",
   "name": "python3"
  },
  "language_info": {
   "codemirror_mode": {
    "name": "ipython",
    "version": 3
   },
   "file_extension": ".py",
   "mimetype": "text/x-python",
   "name": "python",
   "nbconvert_exporter": "python",
   "pygments_lexer": "ipython3",
   "version": "3.11.5"
  }
 },
 "nbformat": 4,
 "nbformat_minor": 5
}
